{
  "nbformat": 4,
  "nbformat_minor": 0,
  "metadata": {
    "colab": {
      "name": "Untitled2.ipynb",
      "provenance": [],
      "authorship_tag": "ABX9TyM24Nga56mkCOL7kRrooiYu",
      "include_colab_link": true
    },
    "kernelspec": {
      "name": "python3",
      "display_name": "Python 3"
    }
  },
  "cells": [
    {
      "cell_type": "markdown",
      "metadata": {
        "id": "view-in-github",
        "colab_type": "text"
      },
      "source": [
        "<a href=\"https://colab.research.google.com/github/heejun3232/class2021Spring/blob/main/20210317.ipynb\" target=\"_parent\"><img src=\"https://colab.research.google.com/assets/colab-badge.svg\" alt=\"Open In Colab\"/></a>"
      ]
    },
    {
      "cell_type": "code",
      "metadata": {
        "colab": {
          "base_uri": "https://localhost:8080/"
        },
        "id": "4GG7C--9uhaY",
        "outputId": "8739cb9b-7d02-4fe8-9475-65372d5b1b49"
      },
      "source": [
        "for i in range(2,5):\r\n",
        "  for j in range(4,7):\r\n",
        "    if i*j>=15: \r\n",
        "      print(i*j+2)"
      ],
      "execution_count": 3,
      "outputs": [
        {
          "output_type": "stream",
          "text": [
            "17\n",
            "20\n",
            "18\n",
            "22\n",
            "26\n"
          ],
          "name": "stdout"
        }
      ]
    },
    {
      "cell_type": "code",
      "metadata": {
        "colab": {
          "base_uri": "https://localhost:8080/"
        },
        "id": "0u6dqitiwBbx",
        "outputId": "5e00fd8e-5a1a-424a-f694-93edf4d493b1"
      },
      "source": [
        "a = [ 'student', 'teacher', 'book', 'pen', 'classroom']\r\n",
        "b = [ i for i in a if len(i) >5]\r\n",
        "print(b)"
      ],
      "execution_count": 6,
      "outputs": [
        {
          "output_type": "stream",
          "text": [
            "['student', 'teacher', 'classroom']\n"
          ],
          "name": "stdout"
        }
      ]
    }
  ]
}